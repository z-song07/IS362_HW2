{
 "cells": [
  {
   "cell_type": "markdown",
   "id": "62d90cf8",
   "metadata": {},
   "source": [
    "\n",
    "HW2 \n",
    "----------\n",
    "\n",
    "## Ziwei Song\n",
    "\n",
    "### This is a program that uses social media data to find the word trends (most mentioned word)\n"
   ]
  },
  {
   "cell_type": "markdown",
   "id": "374ee0bc",
   "metadata": {},
   "source": [
    "#### The social media data is in a list of tuples"
   ]
  },
  {
   "cell_type": "code",
   "execution_count": 1,
   "id": "a4551b06",
   "metadata": {},
   "outputs": [],
   "source": [
    "data_tp = [  ('Tommy','tom193',[\"Dylan cooked dinner yesterday.\",\"hot wings for dinner\"]),\n",
    "    ('Gail','garil1023',[\"It's too hot today\", \"New breakfast deal for Mcdonald's?\"]),\n",
    "    ('Dylan','dee123', [\"Go home and feed my cat\", \"How to get rid off cat hair\", \"my cat doesn't like music.\"]),\n",
    "    ('Randy', 'r4ndy42',  [\"We skipped breakfast this morning\",\"Did they turn the AC off? My office is too hot\",\"Bought some bread. I will make breakfast tomorrow\"]),\n",
    "    ('Ariel','ar13l',[\"I want to get McDonald's ice cream later. The weather is too hot\"])]"
   ]
  },
  {
   "cell_type": "markdown",
   "id": "134aed2d",
   "metadata": {},
   "source": [
    "Unpack the tuple and create a list of dictionary. <br>\n",
    "Each dictionary contains a social media user's information *(user, username, posts)*"
   ]
  },
  {
   "cell_type": "code",
   "execution_count": 2,
   "id": "d5ac1ae3",
   "metadata": {},
   "outputs": [
    {
     "name": "stdout",
     "output_type": "stream",
     "text": [
      "[{'user': 'Tommy', 'username': 'tom193', 'posts': ['Dylan cooked dinner yesterday.', 'hot wings for dinner']}, {'user': 'Gail', 'username': 'garil1023', 'posts': [\"It's too hot today\", \"New breakfast deal for Mcdonald's?\"]}, {'user': 'Dylan', 'username': 'dee123', 'posts': ['Go home and feed my cat', 'How to get rid off cat hair', \"my cat doesn't like music.\"]}, {'user': 'Randy', 'username': 'r4ndy42', 'posts': ['We skipped breakfast this morning', 'Did they turn the AC off? My office is too hot', 'Bought some bread. I will make breakfast tomorrow']}, {'user': 'Ariel', 'username': 'ar13l', 'posts': [\"I want to get McDonald's ice cream later. The weather is too hot\"]}]\n"
     ]
    }
   ],
   "source": [
    "users_info = []\n",
    "\n",
    "def create_dict(user, username, posts):\n",
    "    return {'user': user,\n",
    "           'username': username,\n",
    "           'posts': posts}\n",
    "    \n",
    "for data in data_tp:\n",
    "    users_info.append(create_dict(*data))\n",
    "\n",
    "print(users_info)"
   ]
  },
  {
   "cell_type": "markdown",
   "id": "f83bffbf",
   "metadata": {},
   "source": [
    "The following function __create_word_list()__ turn a list of strings into a list of words"
   ]
  },
  {
   "cell_type": "code",
   "execution_count": 3,
   "id": "ad4a41f8",
   "metadata": {},
   "outputs": [],
   "source": [
    "def create_word_list(posts):\n",
    "    word_list = []\n",
    "    for post in posts:\n",
    "        post = post.lower()\n",
    "        word_list.extend(post.split())\n",
    "    return word_list"
   ]
  },
  {
   "cell_type": "markdown",
   "id": "862a7fbb",
   "metadata": {},
   "source": [
    "The following function __most_mentioned_word()__ returns the most counted words in a list of words"
   ]
  },
  {
   "cell_type": "code",
   "execution_count": 4,
   "id": "eac1ab75",
   "metadata": {},
   "outputs": [],
   "source": [
    "from collections import Counter\n",
    "def most_mentioned_word(word_list):\n",
    "    word_counts = Counter(word_list)\n",
    "    return word_counts.most_common(1)[0]"
   ]
  },
  {
   "cell_type": "markdown",
   "id": "2086e80f",
   "metadata": {},
   "source": [
    "##### The following code will find out the __most frequent words each user posted__."
   ]
  },
  {
   "cell_type": "code",
   "execution_count": 5,
   "id": "9e267196",
   "metadata": {},
   "outputs": [
    {
     "name": "stdout",
     "output_type": "stream",
     "text": [
      "User Tommy with username tom193's most mentioned word is dinner. They mentioned it 2 times.\n",
      "User Gail with username garil1023's most mentioned word is it's. They mentioned it 1 times.\n",
      "User Dylan with username dee123's most mentioned word is cat. They mentioned it 3 times.\n",
      "User Randy with username r4ndy42's most mentioned word is breakfast. They mentioned it 2 times.\n",
      "User Ariel with username ar13l's most mentioned word is i. They mentioned it 1 times.\n"
     ]
    }
   ],
   "source": [
    "for user_info in users_info:\n",
    "    word_list = create_word_list(user_info['posts'])\n",
    "    mentioned_word, frequency =  most_mentioned_word(word_list)\n",
    "    print(f\"User {user_info['user']} with username {user_info['username']}'s most mentioned word is {mentioned_word}. They mentioned it {frequency} times.\" )"
   ]
  },
  {
   "cell_type": "markdown",
   "id": "5629f7fe",
   "metadata": {},
   "source": [
    "##### The following code will find out the __most frequent words all user posted__."
   ]
  },
  {
   "cell_type": "code",
   "execution_count": 6,
   "id": "986317fc",
   "metadata": {},
   "outputs": [
    {
     "name": "stdout",
     "output_type": "stream",
     "text": [
      "The top trending word by all user is hot. People mentioned it 4 times.\n"
     ]
    }
   ],
   "source": [
    "all_word_list = []\n",
    "for user_info in users_info:\n",
    "    word_list = create_word_list(user_info['posts'])\n",
    "    all_word_list.extend(word_list)\n",
    "\n",
    "top_mentioned_word, times =  most_mentioned_word(all_word_list)\n",
    "print(f\"The top trending word by all user is {top_mentioned_word}. People mentioned it {times} times.\")\n"
   ]
  }
 ],
 "metadata": {
  "kernelspec": {
   "display_name": "Python 3 (ipykernel)",
   "language": "python",
   "name": "python3"
  },
  "language_info": {
   "codemirror_mode": {
    "name": "ipython",
    "version": 3
   },
   "file_extension": ".py",
   "mimetype": "text/x-python",
   "name": "python",
   "nbconvert_exporter": "python",
   "pygments_lexer": "ipython3",
   "version": "3.11.1"
  }
 },
 "nbformat": 4,
 "nbformat_minor": 5
}
